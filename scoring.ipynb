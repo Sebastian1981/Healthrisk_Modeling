{
 "cells": [
  {
   "cell_type": "code",
   "execution_count": 9,
   "metadata": {},
   "outputs": [
    {
     "name": "stdout",
     "output_type": "stream",
     "text": [
      "H:\\Andere Computer\\Mein Computer\\GoogleDrive\\Beruf\\Freelancing\\Code_Repo\\Healthrisk_Modeling\\model\n",
      "loaded trained model \n",
      "\n",
      "------------------------\n",
      "Pipeline(steps=[('preprocessor',\n",
      "                 ColumnTransformer(transformers=[('num',\n",
      "                                                  Pipeline(steps=[('imputer',\n",
      "                                                                   SimpleImputer()),\n",
      "                                                                  ('scaler',\n",
      "                                                                   MinMaxScaler())]),\n",
      "                                                  [0, 1, 2, 3, 4, 5, 6]),\n",
      "                                                 ('cat',\n",
      "                                                  Pipeline(steps=[('onehotencode',\n",
      "                                                                   OneHotEncoder(handle_unknown='ignore'))]),\n",
      "                                                  [7])])),\n",
      "                ('gbc', GradientBoostingClassifier(random_state=123))])\n",
      "------------------------\n"
     ]
    }
   ],
   "source": [
    "# script for scoring new data using the pre-built data-preprocessing and modeling pipeline\n",
    "\n",
    "import os\n",
    "import joblib\n",
    "import numpy as np\n",
    "import pandas as pd\n",
    "\n",
    "\n",
    "# set paths\n",
    "ROOTDIR = 'H:\\Andere Computer\\Mein Computer\\GoogleDrive\\Beruf\\Freelancing\\Code_Repo\\Healthrisk_Modeling'\n",
    "DATAPATH = \"H:\\Andere Computer\\Mein Computer\\GoogleDrive\\Beruf\\Freelancing\\Code_Repo\\Healthrisk_Modeling\\data\"\n",
    "MODELPATH = \"H:\\Andere Computer\\Mein Computer\\GoogleDrive\\Beruf\\Freelancing\\Code_Repo\\Healthrisk_Modeling\\model\"\n",
    "\n",
    "\n",
    "# define features and target\n",
    "features = ['Pregnancies', 'PlasmaGlucose', 'DiastolicBloodPressure', 'TricepsThickness', 'SerumInsulin', 'BMI', 'DiabetesPedigree', 'Age']\n",
    "target = 'Diabetic'\n",
    "\n",
    "\n",
    "print(MODELPATH)\n",
    "# Load the model from the file\n",
    "filename = '/diabetes_model.pkl'\n",
    "model_loaded = joblib.load(MODELPATH + filename)\n",
    "print('loaded trained model \\n')\n",
    "print('------------------------')\n",
    "print(model_loaded)\n",
    "print('------------------------')\n"
   ]
  },
  {
   "cell_type": "code",
   "execution_count": 10,
   "metadata": {},
   "outputs": [
    {
     "data": {
      "text/plain": [
       "{'Pregnancies': 2.0,\n",
       " 'PlasmaGlucose': 180.0,\n",
       " 'DiastolicBloodPressure': 74.0,\n",
       " 'TricepsThickness': 24.0,\n",
       " 'SerumInsulin': 21.0,\n",
       " 'BMI': 23.0,\n",
       " 'DiabetesPedigree': 1.4,\n",
       " 'Age': 22.0}"
      ]
     },
     "execution_count": 10,
     "metadata": {},
     "output_type": "execute_result"
    }
   ],
   "source": [
    "# make up some new data as dictionary as provided later in the rest api\n",
    "data = {\n",
    "    \"Pregnancies\": 2.0,\n",
    "    \"PlasmaGlucose\": 180.0,\n",
    "    \"DiastolicBloodPressure\": 74.0,\n",
    "    \"TricepsThickness\": 24.0,\n",
    "    \"SerumInsulin\": 21.0,\n",
    "    \"BMI\": 23.0,\n",
    "    \"DiabetesPedigree\": 1.4,\n",
    "    \"Age\": 22.0\n",
    "}\n",
    "data"
   ]
  },
  {
   "cell_type": "code",
   "execution_count": 11,
   "metadata": {},
   "outputs": [
    {
     "data": {
      "text/html": [
       "<div>\n",
       "<style scoped>\n",
       "    .dataframe tbody tr th:only-of-type {\n",
       "        vertical-align: middle;\n",
       "    }\n",
       "\n",
       "    .dataframe tbody tr th {\n",
       "        vertical-align: top;\n",
       "    }\n",
       "\n",
       "    .dataframe thead th {\n",
       "        text-align: right;\n",
       "    }\n",
       "</style>\n",
       "<table border=\"1\" class=\"dataframe\">\n",
       "  <thead>\n",
       "    <tr style=\"text-align: right;\">\n",
       "      <th></th>\n",
       "      <th>Pregnancies</th>\n",
       "      <th>PlasmaGlucose</th>\n",
       "      <th>DiastolicBloodPressure</th>\n",
       "      <th>TricepsThickness</th>\n",
       "      <th>SerumInsulin</th>\n",
       "      <th>BMI</th>\n",
       "      <th>DiabetesPedigree</th>\n",
       "      <th>Age</th>\n",
       "    </tr>\n",
       "  </thead>\n",
       "  <tbody>\n",
       "    <tr>\n",
       "      <th>0</th>\n",
       "      <td>2.0</td>\n",
       "      <td>180.0</td>\n",
       "      <td>74.0</td>\n",
       "      <td>24.0</td>\n",
       "      <td>21.0</td>\n",
       "      <td>23.0</td>\n",
       "      <td>1.4</td>\n",
       "      <td>22.0</td>\n",
       "    </tr>\n",
       "  </tbody>\n",
       "</table>\n",
       "</div>"
      ],
      "text/plain": [
       "   Pregnancies  PlasmaGlucose  DiastolicBloodPressure  TricepsThickness  \\\n",
       "0          2.0          180.0                    74.0              24.0   \n",
       "\n",
       "   SerumInsulin   BMI  DiabetesPedigree   Age  \n",
       "0          21.0  23.0               1.4  22.0  "
      ]
     },
     "execution_count": 11,
     "metadata": {},
     "output_type": "execute_result"
    }
   ],
   "source": [
    "# turn data into dataframe\n",
    "X_new = pd.DataFrame.from_dict(data, orient='index').T\n",
    "X_new.head()"
   ]
  },
  {
   "cell_type": "code",
   "execution_count": 12,
   "metadata": {},
   "outputs": [
    {
     "name": "stdout",
     "output_type": "stream",
     "text": [
      "Predicted class is 1\n"
     ]
    }
   ],
   "source": [
    "# Get a prediction\n",
    "pred = model_loaded.predict(X_new)\n",
    "print('Predicted class is {}'.format(pred[0]))"
   ]
  }
 ],
 "metadata": {
  "interpreter": {
   "hash": "7819d97e4b79586e8a44f7b7d2667c5b6a50c5d9997f9d62a8a1a4ff6c4b7e4b"
  },
  "kernelspec": {
   "display_name": "Python 3.8.13 ('healthrisk_env')",
   "language": "python",
   "name": "python3"
  },
  "language_info": {
   "codemirror_mode": {
    "name": "ipython",
    "version": 3
   },
   "file_extension": ".py",
   "mimetype": "text/x-python",
   "name": "python",
   "nbconvert_exporter": "python",
   "pygments_lexer": "ipython3",
   "version": "3.8.13"
  },
  "orig_nbformat": 4
 },
 "nbformat": 4,
 "nbformat_minor": 2
}
